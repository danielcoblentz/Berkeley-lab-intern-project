{
 "cells": [
  {
   "cell_type": "code",
   "execution_count": 43,
   "id": "2592b154-7180-4b10-934a-2d72f4891438",
   "metadata": {},
   "outputs": [
    {
     "name": "stdout",
     "output_type": "stream",
     "text": [
      "Defaulting to user installation because normal site-packages is not writeable\n",
      "\u001b[33mWARNING: Ignoring invalid distribution ~ympy (/global/homes/d/dtc03/.local/perlmutter/python-3.11/lib/python3.11/site-packages)\u001b[0m\u001b[33m\n",
      "\u001b[33mWARNING: Ignoring invalid distribution ~ympy (/global/homes/d/dtc03/.local/perlmutter/python-3.11/lib/python3.11/site-packages)\u001b[0m\u001b[33m\n",
      "Collecting https://s3-us-west-2.amazonaws.com/ai2-s2-scispacy/releases/v0.5.4/en_core_sci_sm-0.5.4.tar.gz\n",
      "  Downloading https://s3-us-west-2.amazonaws.com/ai2-s2-scispacy/releases/v0.5.4/en_core_sci_sm-0.5.4.tar.gz (14.8 MB)\n",
      "\u001b[2K     \u001b[90m━━━━━━━━━━━━━━━━━━━━━━━━━━━━━━━━━━━━━━━━\u001b[0m \u001b[32m14.8/14.8 MB\u001b[0m \u001b[31m20.3 MB/s\u001b[0m eta \u001b[36m0:00:00\u001b[0m00:01\u001b[0m00:01\u001b[0m\n",
      "  Preparing metadata (setup.py) ... \u001b[?25ldone\n",
      "\u001b[?25hCollecting spacy<3.8.0,>=3.7.4 (from en_core_sci_sm==0.5.4)\n",
      "  Using cached spacy-3.7.5-cp311-cp311-manylinux_2_17_x86_64.manylinux2014_x86_64.whl.metadata (27 kB)\n",
      "Requirement already satisfied: spacy-legacy<3.1.0,>=3.0.11 in /global/homes/d/dtc03/.local/perlmutter/python-3.11/lib/python3.11/site-packages (from spacy<3.8.0,>=3.7.4->en_core_sci_sm==0.5.4) (3.0.12)\n",
      "Requirement already satisfied: spacy-loggers<2.0.0,>=1.0.0 in /global/homes/d/dtc03/.local/perlmutter/python-3.11/lib/python3.11/site-packages (from spacy<3.8.0,>=3.7.4->en_core_sci_sm==0.5.4) (1.0.5)\n",
      "Requirement already satisfied: murmurhash<1.1.0,>=0.28.0 in /global/homes/d/dtc03/.local/perlmutter/python-3.11/lib/python3.11/site-packages (from spacy<3.8.0,>=3.7.4->en_core_sci_sm==0.5.4) (1.0.13)\n",
      "Requirement already satisfied: cymem<2.1.0,>=2.0.2 in /global/homes/d/dtc03/.local/perlmutter/python-3.11/lib/python3.11/site-packages (from spacy<3.8.0,>=3.7.4->en_core_sci_sm==0.5.4) (2.0.11)\n",
      "Requirement already satisfied: preshed<3.1.0,>=3.0.2 in /global/homes/d/dtc03/.local/perlmutter/python-3.11/lib/python3.11/site-packages (from spacy<3.8.0,>=3.7.4->en_core_sci_sm==0.5.4) (3.0.10)\n",
      "Collecting thinc<8.3.0,>=8.2.2 (from spacy<3.8.0,>=3.7.4->en_core_sci_sm==0.5.4)\n",
      "  Using cached thinc-8.2.5-cp311-cp311-manylinux_2_17_x86_64.manylinux2014_x86_64.whl.metadata (15 kB)\n",
      "Requirement already satisfied: wasabi<1.2.0,>=0.9.1 in /global/homes/d/dtc03/.local/perlmutter/python-3.11/lib/python3.11/site-packages (from spacy<3.8.0,>=3.7.4->en_core_sci_sm==0.5.4) (0.10.1)\n",
      "Requirement already satisfied: srsly<3.0.0,>=2.4.3 in /global/homes/d/dtc03/.local/perlmutter/python-3.11/lib/python3.11/site-packages (from spacy<3.8.0,>=3.7.4->en_core_sci_sm==0.5.4) (2.5.1)\n",
      "Requirement already satisfied: catalogue<2.1.0,>=2.0.6 in /global/homes/d/dtc03/.local/perlmutter/python-3.11/lib/python3.11/site-packages (from spacy<3.8.0,>=3.7.4->en_core_sci_sm==0.5.4) (2.0.10)\n",
      "Requirement already satisfied: weasel<0.5.0,>=0.1.0 in /global/homes/d/dtc03/.local/perlmutter/python-3.11/lib/python3.11/site-packages (from spacy<3.8.0,>=3.7.4->en_core_sci_sm==0.5.4) (0.4.1)\n",
      "Requirement already satisfied: typer<1.0.0,>=0.3.0 in /global/homes/d/dtc03/.local/perlmutter/python-3.11/lib/python3.11/site-packages (from spacy<3.8.0,>=3.7.4->en_core_sci_sm==0.5.4) (0.4.2)\n",
      "Requirement already satisfied: tqdm<5.0.0,>=4.38.0 in /global/homes/d/dtc03/.local/perlmutter/python-3.11/lib/python3.11/site-packages (from spacy<3.8.0,>=3.7.4->en_core_sci_sm==0.5.4) (4.67.1)\n",
      "Requirement already satisfied: requests<3.0.0,>=2.13.0 in /global/homes/d/dtc03/.local/perlmutter/python-3.11/lib/python3.11/site-packages (from spacy<3.8.0,>=3.7.4->en_core_sci_sm==0.5.4) (2.32.4)\n",
      "Requirement already satisfied: pydantic!=1.8,!=1.8.1,<3.0.0,>=1.7.4 in /global/homes/d/dtc03/.local/perlmutter/python-3.11/lib/python3.11/site-packages (from spacy<3.8.0,>=3.7.4->en_core_sci_sm==0.5.4) (1.8.2)\n",
      "Requirement already satisfied: jinja2 in /global/common/software/nersc/pe/conda-envs/24.1.0/python-3.11/nersc-python/lib/python3.11/site-packages (from spacy<3.8.0,>=3.7.4->en_core_sci_sm==0.5.4) (3.1.2)\n",
      "Requirement already satisfied: setuptools in /global/common/software/nersc/pe/conda-envs/24.1.0/python-3.11/nersc-python/lib/python3.11/site-packages (from spacy<3.8.0,>=3.7.4->en_core_sci_sm==0.5.4) (69.0.3)\n",
      "Requirement already satisfied: packaging>=20.0 in /global/common/software/nersc/pe/conda-envs/24.1.0/python-3.11/nersc-python/lib/python3.11/site-packages (from spacy<3.8.0,>=3.7.4->en_core_sci_sm==0.5.4) (23.2)\n",
      "Requirement already satisfied: langcodes<4.0.0,>=3.2.0 in /global/homes/d/dtc03/.local/perlmutter/python-3.11/lib/python3.11/site-packages (from spacy<3.8.0,>=3.7.4->en_core_sci_sm==0.5.4) (3.5.0)\n",
      "Requirement already satisfied: numpy>=1.19.0 in /global/common/software/nersc/pe/conda-envs/24.1.0/python-3.11/nersc-python/lib/python3.11/site-packages (from spacy<3.8.0,>=3.7.4->en_core_sci_sm==0.5.4) (1.26.3)\n",
      "Requirement already satisfied: language-data>=1.2 in /global/homes/d/dtc03/.local/perlmutter/python-3.11/lib/python3.11/site-packages (from langcodes<4.0.0,>=3.2.0->spacy<3.8.0,>=3.7.4->en_core_sci_sm==0.5.4) (1.3.0)\n",
      "Requirement already satisfied: typing-extensions>=3.7.4.3 in /global/homes/d/dtc03/.local/perlmutter/python-3.11/lib/python3.11/site-packages (from pydantic!=1.8,!=1.8.1,<3.0.0,>=1.7.4->spacy<3.8.0,>=3.7.4->en_core_sci_sm==0.5.4) (4.5.0)\n",
      "Requirement already satisfied: charset_normalizer<4,>=2 in /global/common/software/nersc/pe/conda-envs/24.1.0/python-3.11/nersc-python/lib/python3.11/site-packages (from requests<3.0.0,>=2.13.0->spacy<3.8.0,>=3.7.4->en_core_sci_sm==0.5.4) (3.3.2)\n",
      "Requirement already satisfied: idna<4,>=2.5 in /global/common/software/nersc/pe/conda-envs/24.1.0/python-3.11/nersc-python/lib/python3.11/site-packages (from requests<3.0.0,>=2.13.0->spacy<3.8.0,>=3.7.4->en_core_sci_sm==0.5.4) (3.6)\n",
      "Requirement already satisfied: urllib3<3,>=1.21.1 in /global/common/software/nersc/pe/conda-envs/24.1.0/python-3.11/nersc-python/lib/python3.11/site-packages (from requests<3.0.0,>=2.13.0->spacy<3.8.0,>=3.7.4->en_core_sci_sm==0.5.4) (2.1.0)\n",
      "Requirement already satisfied: certifi>=2017.4.17 in /global/common/software/nersc/pe/conda-envs/24.1.0/python-3.11/nersc-python/lib/python3.11/site-packages (from requests<3.0.0,>=2.13.0->spacy<3.8.0,>=3.7.4->en_core_sci_sm==0.5.4) (2023.11.17)\n",
      "Requirement already satisfied: blis<0.8.0,>=0.7.8 in /global/homes/d/dtc03/.local/perlmutter/python-3.11/lib/python3.11/site-packages (from thinc<8.3.0,>=8.2.2->spacy<3.8.0,>=3.7.4->en_core_sci_sm==0.5.4) (0.7.11)\n",
      "Requirement already satisfied: confection<1.0.0,>=0.0.1 in /global/homes/d/dtc03/.local/perlmutter/python-3.11/lib/python3.11/site-packages (from thinc<8.3.0,>=8.2.2->spacy<3.8.0,>=3.7.4->en_core_sci_sm==0.5.4) (0.1.5)\n",
      "Requirement already satisfied: click<9.0.0,>=7.1.1 in /global/common/software/nersc/pe/conda-envs/24.1.0/python-3.11/nersc-python/lib/python3.11/site-packages (from typer<1.0.0,>=0.3.0->spacy<3.8.0,>=3.7.4->en_core_sci_sm==0.5.4) (8.1.7)\n",
      "Requirement already satisfied: cloudpathlib<1.0.0,>=0.7.0 in /global/homes/d/dtc03/.local/perlmutter/python-3.11/lib/python3.11/site-packages (from weasel<0.5.0,>=0.1.0->spacy<3.8.0,>=3.7.4->en_core_sci_sm==0.5.4) (0.21.1)\n",
      "Requirement already satisfied: smart-open<8.0.0,>=5.2.1 in /global/homes/d/dtc03/.local/perlmutter/python-3.11/lib/python3.11/site-packages (from weasel<0.5.0,>=0.1.0->spacy<3.8.0,>=3.7.4->en_core_sci_sm==0.5.4) (6.4.0)\n",
      "Requirement already satisfied: MarkupSafe>=2.0 in /global/common/software/nersc/pe/conda-envs/24.1.0/python-3.11/nersc-python/lib/python3.11/site-packages (from jinja2->spacy<3.8.0,>=3.7.4->en_core_sci_sm==0.5.4) (2.1.3)\n",
      "Requirement already satisfied: marisa-trie>=1.1.0 in /global/homes/d/dtc03/.local/perlmutter/python-3.11/lib/python3.11/site-packages (from language-data>=1.2->langcodes<4.0.0,>=3.2.0->spacy<3.8.0,>=3.7.4->en_core_sci_sm==0.5.4) (1.2.1)\n",
      "Using cached spacy-3.7.5-cp311-cp311-manylinux_2_17_x86_64.manylinux2014_x86_64.whl (6.6 MB)\n",
      "Using cached thinc-8.2.5-cp311-cp311-manylinux_2_17_x86_64.manylinux2014_x86_64.whl (920 kB)\n",
      "Building wheels for collected packages: en_core_sci_sm\n",
      "  Building wheel for en_core_sci_sm (setup.py) ..done\n",
      "\u001b[?25h  Created wheel for en_core_sci_sm: filename=en_core_sci_sm-0.5.4-py3-none-any.whl size=14778482 sha256=12b11dbc80f71fadd5a1dea50686ce25c0c2385628644fd453144e664371b2ff\n",
      "  Stored in directory: /global/u1/d/dtc03/.cache/pip/wheels/7f/29/44/dd461872b8547b8e8007f03418fb8061f5c05c71447982bcff\n",
      "Successfully built en_core_sci_sm\n",
      "\u001b[33mWARNING: Ignoring invalid distribution ~ympy (/global/homes/d/dtc03/.local/perlmutter/python-3.11/lib/python3.11/site-packages)\u001b[0m\u001b[33m\n",
      "Installing collected packages: thinc, spacy, en_core_sci_sm\n",
      "  Attempting uninstall: thinc\n",
      "\u001b[33m    WARNING: Ignoring invalid distribution ~ympy (/global/homes/d/dtc03/.local/perlmutter/python-3.11/lib/python3.11/site-packages)\u001b[0m\u001b[33m\n",
      "\u001b[0m    Found existing installation: thinc 8.0.17\n",
      "    Uninstalling thinc-8.0.17:\n",
      "      Successfully uninstalled thinc-8.0.17\n",
      "  Rolling back uninstall of thinc\n",
      "  Moving to /global/u1/d/dtc03/.local/perlmutter/python-3.11/lib/python3.11/site-packages/thinc-8.0.17.dist-info/\n",
      "   from /global/u1/d/dtc03/.local/perlmutter/python-3.11/lib/python3.11/site-packages/~hinc-8.0.17.dist-info\n",
      "  Moving to /global/u1/d/dtc03/.local/perlmutter/python-3.11/lib/python3.11/site-packages/thinc/\n",
      "   from /global/u1/d/dtc03/.local/perlmutter/python-3.11/lib/python3.11/site-packages/~hinc\n",
      "\u001b[31mERROR: Could not install packages due to an OSError: [Errno 2] No such file or directory: '/global/homes/d/dtc03/.local/perlmutter/python-3.11/lib/python3.11/site-packages/thinc/compat.py'\n",
      "\u001b[0m\u001b[31m\n",
      "\u001b[33mWARNING: Ignoring invalid distribution ~ympy (/global/homes/d/dtc03/.local/perlmutter/python-3.11/lib/python3.11/site-packages)\u001b[0m\u001b[33m\n",
      "\u001b[33mWARNING: Ignoring invalid distribution ~ympy (/global/homes/d/dtc03/.local/perlmutter/python-3.11/lib/python3.11/site-packages)\u001b[0m\u001b[33m\n",
      "\u001b[33mWARNING: Ignoring invalid distribution ~ympy (/global/homes/d/dtc03/.local/perlmutter/python-3.11/lib/python3.11/site-packages)\u001b[0m\u001b[33m\n",
      "\u001b[0m"
     ]
    }
   ],
   "source": [
    "!pip install https://s3-us-west-2.amazonaws.com/ai2-s2-scispacy/releases/v0.5.4/en_core_sci_sm-0.5.4.tar.gz"
   ]
  },
  {
   "cell_type": "code",
   "execution_count": 41,
   "id": "307283c2-bb1e-49ce-a04e-6b5ff3914667",
   "metadata": {},
   "outputs": [],
   "source": [
    "# NLP + Data analysis tools\n",
    "import pandas as pd\n",
    "import numpy as np\n",
    "from sklearn.feature_extraction.text import TfidfVectorizer\n",
    "import re\n",
    "import spacy\n",
    "import negspacy\n",
    "from negspacy.negation import Negex"
   ]
  },
  {
   "cell_type": "markdown",
   "id": "82bfd755-9fbe-4ba8-9d80-b4a34bd8eb37",
   "metadata": {},
   "source": [
    "# helper functions"
   ]
  },
  {
   "cell_type": "code",
   "execution_count": 14,
   "id": "321e3216-dc9f-4dfc-a9be-fd10dabedc8b",
   "metadata": {},
   "outputs": [],
   "source": [
    "def clean_text(text):\n",
    "    text = text.lower()\n",
    "    text = re.sub(r'\\n+', ' ', text)  \n",
    "    text = re.sub(r'_+', ' ', text)   \n",
    "    text = re.sub(r'\\s+', ' ', text)  \n",
    "    return text.strip()"
   ]
  },
  {
   "cell_type": "code",
   "execution_count": 23,
   "id": "0b33130f-3c74-4926-a487-bef66d9f44b2",
   "metadata": {},
   "outputs": [],
   "source": [
    "def prepare_text(text):\n",
    "    new_text = text[140:] #Remove generic beginning\n",
    "    new_text = re.sub(\"___\",\"\", new_text) #Remove deidentified info\n",
    "    return new_text"
   ]
  },
  {
   "cell_type": "code",
   "execution_count": null,
   "id": "d1b05c4c-4659-4b1d-bf70-d4a9c4c5cff0",
   "metadata": {},
   "outputs": [],
   "source": [
    "def tag_negations(text):\n",
    "    doc = nlp(text)\n",
    "    tagged_tokens = []\n",
    "    for token in doc:\n",
    "        if token._.negex:\n",
    "            tagged_tokens.append(f\"NEG_{token.text.lower()}\")\n",
    "        else:\n",
    "            tagged_tokens.append(token.text.lower())\n",
    "    return \" \".join(tagged_tokens)\n"
   ]
  },
  {
   "cell_type": "code",
   "execution_count": 28,
   "id": "0f262fac-adf6-46d1-b341-607872511491",
   "metadata": {},
   "outputs": [],
   "source": [
    "def normalize_concepts(text):\n",
    "    doc = nlp(text)\n",
    "    normalized_tokens = []\n",
    "    for token in doc:\n",
    "        if token.ent_type_:\n",
    "            if token._.umls_ents:\n",
    "                cui = token._.umls_ents[0][0]\n",
    "                canonical = linker.umls.cui_to_entity[cui].canonical_name.replace(\" \", \"_\")\n",
    "                normalized_tokens.append(canonical.lower())\n",
    "            else:\n",
    "                normalized_tokens.append(token.text.lower())\n",
    "        else:\n",
    "            normalized_tokens.append(token.text.lower())\n",
    "    return \" \".join(normalized_tokens)"
   ]
  },
  {
   "cell_type": "markdown",
   "id": "384feff1-a25c-4c70-874e-6f7cee5d81aa",
   "metadata": {},
   "source": [
    "## explore notes"
   ]
  },
  {
   "cell_type": "code",
   "execution_count": 19,
   "id": "b5c4a1cd-6d22-49d9-ad96-ebbb6db5f1b7",
   "metadata": {},
   "outputs": [],
   "source": [
    "osa = pd.read_csv('/global/cfs/cdirs/m1532/Projects_MVP/Anthony/sorted_vocab/OSA_HF_BLUEBERT_VOCAB/osa_bluebert_bigrams.csv')\n",
    "hf = pd.read_csv('/global/cfs/cdirs/m1532/Projects_MVP/Anthony/sorted_vocab/OSA_HF_BLUEBERT_VOCAB/hf_bluebert_bigrams.csv')\n",
    "cohort = pd.read_csv('/global/cfs/projectdirs/m1532/Projects_MVP/_members/itunuad/Cohort/cohort_osa_hf_notes.csv')"
   ]
  },
  {
   "cell_type": "code",
   "execution_count": 4,
   "id": "59497a75-c71d-4c66-b6f6-4e4ebe57a697",
   "metadata": {},
   "outputs": [
    {
     "data": {
      "text/html": [
       "<div>\n",
       "<style scoped>\n",
       "    .dataframe tbody tr th:only-of-type {\n",
       "        vertical-align: middle;\n",
       "    }\n",
       "\n",
       "    .dataframe tbody tr th {\n",
       "        vertical-align: top;\n",
       "    }\n",
       "\n",
       "    .dataframe thead th {\n",
       "        text-align: right;\n",
       "    }\n",
       "</style>\n",
       "<table border=\"1\" class=\"dataframe\">\n",
       "  <thead>\n",
       "    <tr style=\"text-align: right;\">\n",
       "      <th></th>\n",
       "      <th>note_id</th>\n",
       "      <th>subject_id</th>\n",
       "      <th>hadm_id</th>\n",
       "      <th>note_type</th>\n",
       "      <th>note_seq</th>\n",
       "      <th>charttime</th>\n",
       "      <th>storetime</th>\n",
       "      <th>text</th>\n",
       "    </tr>\n",
       "  </thead>\n",
       "  <tbody>\n",
       "    <tr>\n",
       "      <th>0</th>\n",
       "      <td>10000032-DS-21</td>\n",
       "      <td>10000032</td>\n",
       "      <td>22595853</td>\n",
       "      <td>DS</td>\n",
       "      <td>21</td>\n",
       "      <td>2180-05-07 00:00:00</td>\n",
       "      <td>2180-05-09 15:26:00</td>\n",
       "      <td>\\nName:  ___                     Unit No:   _...</td>\n",
       "    </tr>\n",
       "    <tr>\n",
       "      <th>1</th>\n",
       "      <td>10000032-DS-22</td>\n",
       "      <td>10000032</td>\n",
       "      <td>22841357</td>\n",
       "      <td>DS</td>\n",
       "      <td>22</td>\n",
       "      <td>2180-06-27 00:00:00</td>\n",
       "      <td>2180-07-01 10:15:00</td>\n",
       "      <td>\\nName:  ___                     Unit No:   _...</td>\n",
       "    </tr>\n",
       "    <tr>\n",
       "      <th>2</th>\n",
       "      <td>10000032-DS-23</td>\n",
       "      <td>10000032</td>\n",
       "      <td>29079034</td>\n",
       "      <td>DS</td>\n",
       "      <td>23</td>\n",
       "      <td>2180-07-25 00:00:00</td>\n",
       "      <td>2180-07-25 21:42:00</td>\n",
       "      <td>\\nName:  ___                     Unit No:   _...</td>\n",
       "    </tr>\n",
       "    <tr>\n",
       "      <th>3</th>\n",
       "      <td>10000032-DS-24</td>\n",
       "      <td>10000032</td>\n",
       "      <td>25742920</td>\n",
       "      <td>DS</td>\n",
       "      <td>24</td>\n",
       "      <td>2180-08-07 00:00:00</td>\n",
       "      <td>2180-08-10 05:43:00</td>\n",
       "      <td>\\nName:  ___                     Unit No:   _...</td>\n",
       "    </tr>\n",
       "    <tr>\n",
       "      <th>4</th>\n",
       "      <td>10000084-DS-17</td>\n",
       "      <td>10000084</td>\n",
       "      <td>23052089</td>\n",
       "      <td>DS</td>\n",
       "      <td>17</td>\n",
       "      <td>2160-11-25 00:00:00</td>\n",
       "      <td>2160-11-25 15:09:00</td>\n",
       "      <td>\\nName:  ___                    Unit No:   __...</td>\n",
       "    </tr>\n",
       "    <tr>\n",
       "      <th>5</th>\n",
       "      <td>10000117-DS-21</td>\n",
       "      <td>10000117</td>\n",
       "      <td>22927623</td>\n",
       "      <td>DS</td>\n",
       "      <td>21</td>\n",
       "      <td>2181-11-15 00:00:00</td>\n",
       "      <td>2181-11-15 15:04:00</td>\n",
       "      <td>\\nName:  ___                 Unit No:   ___\\n...</td>\n",
       "    </tr>\n",
       "    <tr>\n",
       "      <th>6</th>\n",
       "      <td>10000117-DS-22</td>\n",
       "      <td>10000117</td>\n",
       "      <td>27988844</td>\n",
       "      <td>DS</td>\n",
       "      <td>22</td>\n",
       "      <td>2183-09-21 00:00:00</td>\n",
       "      <td>2183-09-29 16:23:00</td>\n",
       "      <td>\\nName:  ___                 Unit No:   ___\\n...</td>\n",
       "    </tr>\n",
       "    <tr>\n",
       "      <th>7</th>\n",
       "      <td>10000248-DS-10</td>\n",
       "      <td>10000248</td>\n",
       "      <td>20600184</td>\n",
       "      <td>DS</td>\n",
       "      <td>10</td>\n",
       "      <td>2192-11-30 00:00:00</td>\n",
       "      <td>2192-11-30 19:49:00</td>\n",
       "      <td>\\nName:  ___                      Unit No:   ...</td>\n",
       "    </tr>\n",
       "    <tr>\n",
       "      <th>8</th>\n",
       "      <td>10000560-DS-15</td>\n",
       "      <td>10000560</td>\n",
       "      <td>28979390</td>\n",
       "      <td>DS</td>\n",
       "      <td>15</td>\n",
       "      <td>2189-10-17 00:00:00</td>\n",
       "      <td>2189-10-17 13:47:00</td>\n",
       "      <td>\\nName:  ___                     Unit No:   _...</td>\n",
       "    </tr>\n",
       "    <tr>\n",
       "      <th>9</th>\n",
       "      <td>10000764-DS-11</td>\n",
       "      <td>10000764</td>\n",
       "      <td>27897940</td>\n",
       "      <td>DS</td>\n",
       "      <td>11</td>\n",
       "      <td>2132-10-19 00:00:00</td>\n",
       "      <td>2132-10-19 18:50:00</td>\n",
       "      <td>\\nName:  ___               Unit No:   ___\\n \\...</td>\n",
       "    </tr>\n",
       "  </tbody>\n",
       "</table>\n",
       "</div>"
      ],
      "text/plain": [
       "          note_id  subject_id   hadm_id note_type  note_seq  \\\n",
       "0  10000032-DS-21    10000032  22595853        DS        21   \n",
       "1  10000032-DS-22    10000032  22841357        DS        22   \n",
       "2  10000032-DS-23    10000032  29079034        DS        23   \n",
       "3  10000032-DS-24    10000032  25742920        DS        24   \n",
       "4  10000084-DS-17    10000084  23052089        DS        17   \n",
       "5  10000117-DS-21    10000117  22927623        DS        21   \n",
       "6  10000117-DS-22    10000117  27988844        DS        22   \n",
       "7  10000248-DS-10    10000248  20600184        DS        10   \n",
       "8  10000560-DS-15    10000560  28979390        DS        15   \n",
       "9  10000764-DS-11    10000764  27897940        DS        11   \n",
       "\n",
       "             charttime            storetime  \\\n",
       "0  2180-05-07 00:00:00  2180-05-09 15:26:00   \n",
       "1  2180-06-27 00:00:00  2180-07-01 10:15:00   \n",
       "2  2180-07-25 00:00:00  2180-07-25 21:42:00   \n",
       "3  2180-08-07 00:00:00  2180-08-10 05:43:00   \n",
       "4  2160-11-25 00:00:00  2160-11-25 15:09:00   \n",
       "5  2181-11-15 00:00:00  2181-11-15 15:04:00   \n",
       "6  2183-09-21 00:00:00  2183-09-29 16:23:00   \n",
       "7  2192-11-30 00:00:00  2192-11-30 19:49:00   \n",
       "8  2189-10-17 00:00:00  2189-10-17 13:47:00   \n",
       "9  2132-10-19 00:00:00  2132-10-19 18:50:00   \n",
       "\n",
       "                                                text  \n",
       "0   \\nName:  ___                     Unit No:   _...  \n",
       "1   \\nName:  ___                     Unit No:   _...  \n",
       "2   \\nName:  ___                     Unit No:   _...  \n",
       "3   \\nName:  ___                     Unit No:   _...  \n",
       "4   \\nName:  ___                    Unit No:   __...  \n",
       "5   \\nName:  ___                 Unit No:   ___\\n...  \n",
       "6   \\nName:  ___                 Unit No:   ___\\n...  \n",
       "7   \\nName:  ___                      Unit No:   ...  \n",
       "8   \\nName:  ___                     Unit No:   _...  \n",
       "9   \\nName:  ___               Unit No:   ___\\n \\...  "
      ]
     },
     "execution_count": 4,
     "metadata": {},
     "output_type": "execute_result"
    }
   ],
   "source": [
    "chort.head(10)\n",
    "print(cohort.shape)"
   ]
  },
  {
   "cell_type": "code",
   "execution_count": 24,
   "id": "6e185d63-48f6-43ca-bc91-76bd0c2a8c8c",
   "metadata": {},
   "outputs": [
    {
     "name": "stdout",
     "output_type": "stream",
     "text": [
      "    Unnamed: 0  subject_id   hadm_id   osa     hf  group  \\\n",
      "0            0    13340824  26708815  True  False      0   \n",
      "1            1    10002013  24848509  True  False      0   \n",
      "2            2    10002167  29383904  True  False      0   \n",
      "3            3    10002221  21008195  True  False      0   \n",
      "4            4    10003019  20030125  True  False      0   \n",
      "5            5    10003019  20277210  True  False      0   \n",
      "6            6    10003019  20962108  True  False      0   \n",
      "7            7    10003019  21223482  True  False      0   \n",
      "8            8    10003019  21616816  True  False      0   \n",
      "9            9    10003019  22774359  True  False      0   \n",
      "10          10    10003019  24646702  True  False      0   \n",
      "11          11    10003019  25179393  True  False      0   \n",
      "12          12    10003019  25573783  True  False      0   \n",
      "13          13    10003019  27683372  True  False      0   \n",
      "14          14    10004401  21085166  True   True      1   \n",
      "\n",
      "                                             new_text  \n",
      "0   ex:   F\\n \\nService: MEDICINE\\n \\nAllergies: \\...  \n",
      "1      F\\n \\nService: MEDICINE\\n \\nAllergies: \\nli...  \n",
      "2      F\\n \\nService: SURGERY\\n \\nAllergies: \\n\\n ...  \n",
      "3     F\\n \\nService: MEDICINE\\n \\nAllergies: \\nCod...  \n",
      "4    M\\n \\nService: MEDICINE\\n \\nAllergies: \\n\\n \\...  \n",
      "5    M\\n \\nService: MEDICINE\\n \\nAllergies: \\nRagw...  \n",
      "6    M\\n \\nService: MEDICINE\\n \\nAllergies: \\nRagw...  \n",
      "7    M\\n \\nService: MEDICINE\\n \\nAllergies: \\nRagw...  \n",
      "8    M\\n \\nService: MEDICINE\\n \\nAllergies: \\nOxyc...  \n",
      "9    M\\n \\nService: MEDICINE\\n \\nAllergies: \\nRagw...  \n",
      "10   M\\n \\nService: SURGERY\\n \\nAllergies: \\nOxyco...  \n",
      "11   M\\n \\nService: MEDICINE\\n \\nAllergies: \\nRagw...  \n",
      "12   M\\n \\nService: SURGERY\\n \\nAllergies: \\nOxyco...  \n",
      "13   M\\n \\nService: SURGERY\\n \\nAllergies: \\nRagwe...  \n",
      "14  M\\n \\nService: MEDICINE\\n \\nAllergies: \\nPenic...  \n"
     ]
    }
   ],
   "source": [
    "cohort['new_text'] = cohort['text'].apply(prepare_text)\n",
    "cohort.drop(['text'], axis=1, inplace=True)\n",
    "print(cohort.head(15))"
   ]
  },
  {
   "cell_type": "code",
   "execution_count": 25,
   "id": "00626fca-a653-4751-b0d7-14c74a7ecc38",
   "metadata": {},
   "outputs": [
    {
     "name": "stdout",
     "output_type": "stream",
     "text": [
      "      char_count                                                       \\\n",
      "           count          mean          std    min       25%      50%   \n",
      "group                                                                   \n",
      "0        21929.0  10394.366410  4158.424611  649.0   7526.00   9703.0   \n",
      "1         7963.0  13118.335175  4597.234016  830.0  10017.00  12444.0   \n",
      "2        41516.0  12444.380986  4484.731146  443.0   9418.75  11838.0   \n",
      "\n",
      "                        word_count                                          \\\n",
      "           75%      max      count         mean         std    min     25%   \n",
      "group                                                                        \n",
      "0      12548.0  46736.0    21929.0  1568.343518  617.771712   82.0  1139.0   \n",
      "1      15426.0  58729.0     7963.0  1986.278915  677.129739  115.0  1526.0   \n",
      "2      14694.0  53534.0    41516.0  1880.109476  659.970981   55.0  1435.0   \n",
      "\n",
      "                               \n",
      "          50%     75%     max  \n",
      "group                          \n",
      "0      1467.0  1898.0  7001.0  \n",
      "1      1895.0  2338.0  8248.0  \n",
      "2      1795.0  2221.0  7585.0  \n"
     ]
    }
   ],
   "source": [
    "cohort['char_count'] = cohort['new_text'].str.len()\n",
    "cohort['word_count'] = cohort['new_text'].str.split().str.len()\n",
    "\n",
    "# Summary stats by group\n",
    "print(cohort.groupby('group')[['char_count', 'word_count']].describe())\n"
   ]
  },
  {
   "cell_type": "code",
   "execution_count": 30,
   "id": "067fbe8d-4969-4359-98ee-4a5a7e65cf76",
   "metadata": {},
   "outputs": [
    {
     "data": {
      "text/plain": [
       "Index(['Unnamed: 0', 'subject_id', 'hadm_id', 'osa', 'hf', 'group', 'new_text',\n",
       "       'char_count', 'word_count'],\n",
       "      dtype='object')"
      ]
     },
     "execution_count": 30,
     "metadata": {},
     "output_type": "execute_result"
    }
   ],
   "source": [
    "# testing 3 approaches (UMLS linker / Negation Handling / Information Density Filtering)\n",
    "cohort.columns"
   ]
  },
  {
   "cell_type": "code",
   "execution_count": 45,
   "id": "a1819f6a-6668-4ae9-8ba8-7412ffb54c07",
   "metadata": {},
   "outputs": [
    {
     "ename": "OSError",
     "evalue": "[E050] Can't find model 'en_core_sci_sm'. It doesn't seem to be a Python package or a valid path to a data directory.",
     "output_type": "error",
     "traceback": [
      "\u001b[0;31m---------------------------------------------------------------------------\u001b[0m",
      "\u001b[0;31mOSError\u001b[0m                                   Traceback (most recent call last)",
      "Cell \u001b[0;32mIn[45], line 2\u001b[0m\n\u001b[1;32m      1\u001b[0m \u001b[38;5;66;03m# Load scispaCy with UMLS linker\u001b[39;00m\n\u001b[0;32m----> 2\u001b[0m nlp \u001b[38;5;241m=\u001b[39m \u001b[43mspacy\u001b[49m\u001b[38;5;241;43m.\u001b[39;49m\u001b[43mload\u001b[49m\u001b[43m(\u001b[49m\u001b[38;5;124;43m\"\u001b[39;49m\u001b[38;5;124;43men_core_sci_sm\u001b[39;49m\u001b[38;5;124;43m\"\u001b[39;49m\u001b[43m)\u001b[49m\n\u001b[1;32m      3\u001b[0m linker \u001b[38;5;241m=\u001b[39m UmlsEntityLinker(resolve_abbreviations\u001b[38;5;241m=\u001b[39m\u001b[38;5;28;01mTrue\u001b[39;00m)\n\u001b[1;32m      4\u001b[0m nlp\u001b[38;5;241m.\u001b[39madd_pipe(linker)\n",
      "File \u001b[0;32m~/.local/perlmutter/python-3.11/lib/python3.11/site-packages/spacy/__init__.py:51\u001b[0m, in \u001b[0;36mload\u001b[0;34m(name, vocab, disable, exclude, config)\u001b[0m\n\u001b[1;32m     30\u001b[0m \u001b[38;5;28;01mdef\u001b[39;00m \u001b[38;5;21mload\u001b[39m(\n\u001b[1;32m     31\u001b[0m     name: Union[\u001b[38;5;28mstr\u001b[39m, Path],\n\u001b[1;32m     32\u001b[0m     \u001b[38;5;241m*\u001b[39m,\n\u001b[0;32m   (...)\u001b[0m\n\u001b[1;32m     36\u001b[0m     config: Union[Dict[\u001b[38;5;28mstr\u001b[39m, Any], Config] \u001b[38;5;241m=\u001b[39m util\u001b[38;5;241m.\u001b[39mSimpleFrozenDict(),\n\u001b[1;32m     37\u001b[0m ) \u001b[38;5;241m-\u001b[39m\u001b[38;5;241m>\u001b[39m Language:\n\u001b[1;32m     38\u001b[0m \u001b[38;5;250m    \u001b[39m\u001b[38;5;124;03m\"\"\"Load a spaCy model from an installed package or a local path.\u001b[39;00m\n\u001b[1;32m     39\u001b[0m \n\u001b[1;32m     40\u001b[0m \u001b[38;5;124;03m    name (str): Package name or model path.\u001b[39;00m\n\u001b[0;32m   (...)\u001b[0m\n\u001b[1;32m     49\u001b[0m \u001b[38;5;124;03m    RETURNS (Language): The loaded nlp object.\u001b[39;00m\n\u001b[1;32m     50\u001b[0m \u001b[38;5;124;03m    \"\"\"\u001b[39;00m\n\u001b[0;32m---> 51\u001b[0m     \u001b[38;5;28;01mreturn\u001b[39;00m \u001b[43mutil\u001b[49m\u001b[38;5;241;43m.\u001b[39;49m\u001b[43mload_model\u001b[49m\u001b[43m(\u001b[49m\n\u001b[1;32m     52\u001b[0m \u001b[43m        \u001b[49m\u001b[43mname\u001b[49m\u001b[43m,\u001b[49m\u001b[43m \u001b[49m\u001b[43mvocab\u001b[49m\u001b[38;5;241;43m=\u001b[39;49m\u001b[43mvocab\u001b[49m\u001b[43m,\u001b[49m\u001b[43m \u001b[49m\u001b[43mdisable\u001b[49m\u001b[38;5;241;43m=\u001b[39;49m\u001b[43mdisable\u001b[49m\u001b[43m,\u001b[49m\u001b[43m \u001b[49m\u001b[43mexclude\u001b[49m\u001b[38;5;241;43m=\u001b[39;49m\u001b[43mexclude\u001b[49m\u001b[43m,\u001b[49m\u001b[43m \u001b[49m\u001b[43mconfig\u001b[49m\u001b[38;5;241;43m=\u001b[39;49m\u001b[43mconfig\u001b[49m\n\u001b[1;32m     53\u001b[0m \u001b[43m    \u001b[49m\u001b[43m)\u001b[49m\n",
      "File \u001b[0;32m~/.local/perlmutter/python-3.11/lib/python3.11/site-packages/spacy/util.py:427\u001b[0m, in \u001b[0;36mload_model\u001b[0;34m(name, vocab, disable, exclude, config)\u001b[0m\n\u001b[1;32m    425\u001b[0m \u001b[38;5;28;01mif\u001b[39;00m name \u001b[38;5;129;01min\u001b[39;00m OLD_MODEL_SHORTCUTS:\n\u001b[1;32m    426\u001b[0m     \u001b[38;5;28;01mraise\u001b[39;00m \u001b[38;5;167;01mIOError\u001b[39;00m(Errors\u001b[38;5;241m.\u001b[39mE941\u001b[38;5;241m.\u001b[39mformat(name\u001b[38;5;241m=\u001b[39mname, full\u001b[38;5;241m=\u001b[39mOLD_MODEL_SHORTCUTS[name]))  \u001b[38;5;66;03m# type: ignore[index]\u001b[39;00m\n\u001b[0;32m--> 427\u001b[0m \u001b[38;5;28;01mraise\u001b[39;00m \u001b[38;5;167;01mIOError\u001b[39;00m(Errors\u001b[38;5;241m.\u001b[39mE050\u001b[38;5;241m.\u001b[39mformat(name\u001b[38;5;241m=\u001b[39mname))\n",
      "\u001b[0;31mOSError\u001b[0m: [E050] Can't find model 'en_core_sci_sm'. It doesn't seem to be a Python package or a valid path to a data directory."
     ]
    }
   ],
   "source": [
    "# Load scispaCy with UMLS linker\n",
    "nlp = spacy.load(\"en_core_sci_sm\")\n",
    "linker = UmlsEntityLinker(resolve_abbreviations=True)\n",
    "nlp.add_pipe(linker)"
   ]
  },
  {
   "cell_type": "code",
   "execution_count": 42,
   "id": "4caa0228-0d82-412d-906d-0cb5dbf01485",
   "metadata": {},
   "outputs": [
    {
     "ename": "NameError",
     "evalue": "name 'nlp' is not defined",
     "output_type": "error",
     "traceback": [
      "\u001b[0;31m---------------------------------------------------------------------------\u001b[0m",
      "\u001b[0;31mNameError\u001b[0m                                 Traceback (most recent call last)",
      "Cell \u001b[0;32mIn[42], line 1\u001b[0m\n\u001b[0;32m----> 1\u001b[0m \u001b[43mnlp\u001b[49m\u001b[38;5;241m.\u001b[39madd_pipe(\u001b[38;5;124m\"\u001b[39m\u001b[38;5;124mnegex\u001b[39m\u001b[38;5;124m\"\u001b[39m, config\u001b[38;5;241m=\u001b[39m{\u001b[38;5;124m\"\u001b[39m\u001b[38;5;124mneg_termset\u001b[39m\u001b[38;5;124m\"\u001b[39m: \u001b[38;5;124m\"\u001b[39m\u001b[38;5;124men_clinical\u001b[39m\u001b[38;5;124m\"\u001b[39m})\n\u001b[1;32m      2\u001b[0m cohort[\u001b[38;5;124m'\u001b[39m\u001b[38;5;124mneg_text\u001b[39m\u001b[38;5;124m'\u001b[39m] \u001b[38;5;241m=\u001b[39m cohort[\u001b[38;5;124m'\u001b[39m\u001b[38;5;124mnorm_text\u001b[39m\u001b[38;5;124m'\u001b[39m]\u001b[38;5;241m.\u001b[39mapply(tag_negations)\n",
      "\u001b[0;31mNameError\u001b[0m: name 'nlp' is not defined"
     ]
    }
   ],
   "source": [
    "nlp.add_pipe(\"negex\", config={\"neg_termset\": \"en_clinical\"})\n",
    "cohort['neg_text'] = cohort['norm_text'].apply(tag_negations)"
   ]
  },
  {
   "cell_type": "code",
   "execution_count": null,
   "id": "69132fe8-6a6d-4c38-a81e-ecd10f900cd9",
   "metadata": {},
   "outputs": [],
   "source": []
  }
 ],
 "metadata": {
  "kernelspec": {
   "display_name": "NERSC Python",
   "language": "python",
   "name": "python3"
  },
  "language_info": {
   "codemirror_mode": {
    "name": "ipython",
    "version": 3
   },
   "file_extension": ".py",
   "mimetype": "text/x-python",
   "name": "python",
   "nbconvert_exporter": "python",
   "pygments_lexer": "ipython3",
   "version": "3.11.7"
  }
 },
 "nbformat": 4,
 "nbformat_minor": 5
}
